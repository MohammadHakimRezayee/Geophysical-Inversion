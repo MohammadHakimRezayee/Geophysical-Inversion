{
 "cells": [
  {
   "cell_type": "code",
   "execution_count": 1,
   "id": "86dc76a4",
   "metadata": {},
   "outputs": [],
   "source": [
    "%matplotlib inline\n",
    "import matplotlib\n",
    "import os\n",
    "import numpy as np\n",
    "import matplotlib as mpl\n",
    "import matplotlib.pyplot as plt\n",
    "import tarfile\n",
    "from discretize import TensorMesh\n",
    "from discretize.utils import mesh_builder_xyz\n",
    "import pandas as pd\n",
    "from ipywidgets import widgets, interact\n"
   ]
  },
  {
   "cell_type": "code",
   "execution_count": 2,
   "id": "f4175598",
   "metadata": {},
   "outputs": [],
   "source": [
    "df = pd.read_excel(r\"C:\\Users\\user\\Documents\\Paper Panjshir\\Panjshir TMI and RTP for modeling.xlsx\")\n",
    "# Down sample the data\n",
    "mpl.rcParams['font.size'] = 14\n",
    "nskip = 30\n",
    "receiver_locations = df[['Easting', 'Northing', 'Elevation']].values[::nskip,:]\n",
    "xyz_topo = np.c_[receiver_locations[:,:2], np.zeros(receiver_locations.shape[0])]\n",
    "dobs = df['RTP'].values[::nskip]"
   ]
  },
  {
   "cell_type": "code",
   "execution_count": 3,
   "id": "547f55df",
   "metadata": {},
   "outputs": [
    {
     "name": "stderr",
     "output_type": "stream",
     "text": [
      "C:\\Users\\user\\anaconda3\\lib\\site-packages\\discretize\\utils\\code_utils.py:247: FutureWarning: ExtractCoreMesh has been deprecated, please use extract_core_mesh. It will be removed in version 1.0.0 of discretize.\n",
      "  warnings.warn(\n"
     ]
    }
   ],
   "source": [
    "model = pd.read_csv('Pcop Mag susceptibility Model')\n",
    "susceptibility_model = model[\"susceptibility\"]\n",
    "dx = 80\n",
    "dy = 80\n",
    "dz = 80\n",
    "depth_core = 1500\n",
    "padding_distance_x_left = 1000\n",
    "padding_distance_x_right = 1000\n",
    "padding_distance_y_left = 1000\n",
    "padding_distance_y_right= 1000\n",
    "padding_distance_z_lower = 1000\n",
    "padding_distance_z_upper = 0\n",
    "xyz_topo =  receiver_locations\n",
    "mesh = mesh_builder_xyz(\n",
    "    xyz=xyz_topo, \n",
    "    h=[dx, dy, dz], \n",
    "    depth_core=depth_core, \n",
    "    padding_distance=[\n",
    "        [padding_distance_x_left, padding_distance_x_right], \n",
    "        [padding_distance_y_left, padding_distance_y_right], \n",
    "        [padding_distance_z_lower, padding_distance_z_upper]\n",
    "    ]\n",
    ")\n",
    "from discretize.utils import ExtractCoreMesh\n",
    "zmin, zmax = -500, 0\n",
    "ymin, ymax = receiver_locations[:,1].min(), receiver_locations[:,1].max()\n",
    "xmin, xmax = receiver_locations[:,0].min(), receiver_locations[:,0].max()\n",
    "xyzlim = np.array([[xmin, xmax],[ymin, ymax], [zmin, zmax]])\n",
    "inds_core, mesh_core = ExtractCoreMesh(xyzlim, mesh)"
   ]
  },
  {
   "cell_type": "code",
   "execution_count": 4,
   "id": "e7cf8af0",
   "metadata": {},
   "outputs": [
    {
     "name": "stderr",
     "output_type": "stream",
     "text": [
      "C:\\Users\\user\\anaconda3\\lib\\site-packages\\pyvista\\plotting\\_plotting.py:280: PyVistaDeprecationWarning: \n",
      "\"stitle\" is a deprecated keyword argument and will be removed in a future\n",
      "release.\n",
      "\n",
      "Use ``scalar_bar_args`` instead.  For example:\n",
      "\n",
      "scalar_bar_args={'title': 'Scalar Bar Title'}\n",
      "\n",
      "  warnings.warn(USE_SCALAR_BAR_ARGS, PyVistaDeprecationWarning)\n"
     ]
    },
    {
     "ename": "NameError",
     "evalue": "name 'vmin' is not defined",
     "output_type": "error",
     "traceback": [
      "\u001b[1;31m---------------------------------------------------------------------------\u001b[0m",
      "\u001b[1;31mNameError\u001b[0m                                 Traceback (most recent call last)",
      "\u001b[1;32m~\\AppData\\Local\\Temp\\ipykernel_10828\\4131753439.py\u001b[0m in \u001b[0;36m<module>\u001b[1;34m\u001b[0m\n\u001b[0;32m     46\u001b[0m     \u001b[0mp\u001b[0m\u001b[1;33m.\u001b[0m\u001b[0mcamera_position\u001b[0m \u001b[1;33m=\u001b[0m \u001b[0mcpos\u001b[0m\u001b[1;33m\u001b[0m\u001b[1;33m\u001b[0m\u001b[0m\n\u001b[0;32m     47\u001b[0m     \u001b[0mp\u001b[0m\u001b[1;33m.\u001b[0m\u001b[0mshow\u001b[0m\u001b[1;33m(\u001b[0m\u001b[0mwindow_size\u001b[0m\u001b[1;33m=\u001b[0m\u001b[1;33m[\u001b[0m\u001b[1;36m1028\u001b[0m\u001b[1;33m,\u001b[0m \u001b[1;36m768\u001b[0m\u001b[1;33m]\u001b[0m\u001b[1;33m)\u001b[0m\u001b[1;33m\u001b[0m\u001b[1;33m\u001b[0m\u001b[0m\n\u001b[1;32m---> 48\u001b[1;33m \u001b[0mplot_3d_with_pyvista\u001b[0m\u001b[1;33m(\u001b[0m\u001b[0msusceptibility_model\u001b[0m\u001b[1;33m,\u001b[0m \u001b[0mnotebook\u001b[0m\u001b[1;33m=\u001b[0m\u001b[1;32mTrue\u001b[0m\u001b[1;33m,\u001b[0m \u001b[0mthreshold\u001b[0m\u001b[1;33m=\u001b[0m\u001b[1;36m0.026\u001b[0m\u001b[1;33m)\u001b[0m\u001b[1;33m\u001b[0m\u001b[1;33m\u001b[0m\u001b[0m\n\u001b[0m",
      "\u001b[1;32m~\\AppData\\Local\\Temp\\ipykernel_10828\\4131753439.py\u001b[0m in \u001b[0;36mplot_3d_with_pyvista\u001b[1;34m(model, notebook, threshold)\u001b[0m\n\u001b[0;32m     39\u001b[0m                \u001b[0mcmap\u001b[0m\u001b[1;33m=\u001b[0m\u001b[1;34m\"seismic\"\u001b[0m\u001b[1;33m,\u001b[0m\u001b[1;33m\u001b[0m\u001b[1;33m\u001b[0m\u001b[0m\n\u001b[0;32m     40\u001b[0m                \u001b[0mpoint_size\u001b[0m\u001b[1;33m=\u001b[0m\u001b[1;36m3\u001b[0m\u001b[1;33m,\u001b[0m \u001b[0mrender_points_as_spheres\u001b[0m\u001b[1;33m=\u001b[0m\u001b[1;32mTrue\u001b[0m\u001b[1;33m,\u001b[0m\u001b[1;33m\u001b[0m\u001b[1;33m\u001b[0m\u001b[0m\n\u001b[1;32m---> 41\u001b[1;33m               stitle='nT', clim=(vmin-5, vmax+5),)\n\u001b[0m\u001b[0;32m     42\u001b[0m     \u001b[0mp\u001b[0m\u001b[1;33m.\u001b[0m\u001b[0mset_scale\u001b[0m\u001b[1;33m(\u001b[0m\u001b[1;36m1\u001b[0m\u001b[1;33m,\u001b[0m\u001b[1;36m1\u001b[0m\u001b[1;33m,\u001b[0m\u001b[1;36m1\u001b[0m\u001b[1;33m)\u001b[0m\u001b[1;33m\u001b[0m\u001b[1;33m\u001b[0m\u001b[0m\n\u001b[0;32m     43\u001b[0m     cpos = [(511000.67,  3885221.37, 11000),\n",
      "\u001b[1;31mNameError\u001b[0m: name 'vmin' is not defined"
     ]
    }
   ],
   "source": [
    "#import topography as downloded DEM\n",
    "topography = pd.read_csv('topography clipped study area')\n",
    "#transfrom the topography from csv to array data\n",
    "topography = topography[['X_coord', 'Y_coord', 'Elevation']].values[::1,:]\n",
    "# extract the magnetic data as array from dataset\n",
    "rtp = df[['Easting', 'Northing', 'RTP']].values[::1,:]\n",
    "rtp_data = rtp[:, 2]\n",
    "#specify the magnetic data points coordinates\n",
    "mag_points = df[['Easting', 'Northing', 'Elevation']].values[::1,:]\n",
    "import pyvista as pv\n",
    "#create PolyData to map the magnetic data over the recovered model\n",
    "cloud = pv.wrap(mag_points)\n",
    "def plot_3d_with_pyvista(model, notebook=True, threshold=0.04):\n",
    "    pv.set_plot_theme(\"document\")\n",
    "    # Get the PyVista dataset of the inverted model\n",
    "    dataset = mesh.to_vtk({'susceptibility':model})\n",
    "    # Create the rendering scene\n",
    "    p = pv.Plotter(notebook=notebook)\n",
    "    # add a grid axes\n",
    "    p.show_grid()\n",
    "    # Extract volumetric threshold\n",
    "    threshed = dataset.threshold(threshold, invert=False)\n",
    "    # Add spatially referenced data to the scene\n",
    "    dparams = dict(\n",
    "        show_edges=False,\n",
    "        cmap=\"RdBu_r\",\n",
    "        clim=[0, 0.04],\n",
    "        stitle='Susceptibility (SI)', \n",
    "    )\n",
    "    \n",
    "    p.add_mesh(threshed, **dparams)\n",
    "    # Add spatially referenced data to the scene\n",
    "    p.add_mesh(dataset.slice(\"x\"), **dparams)\n",
    "    p.add_mesh(dataset.slice(\"y\"), **dparams)\n",
    "    p.add_mesh(\n",
    "        topography, opacity=0.050, color=\"grey\",)\n",
    "    p.add_mesh(cloud,\n",
    "               scalars=rtp_data,\n",
    "               cmap=\"seismic\",\n",
    "               point_size=3, render_points_as_spheres=True,\n",
    "              stitle='nT', clim=(vmin-5, vmax+5),)\n",
    "    p.set_scale(1,1,1)\n",
    "    cpos = [(511000.67,  3885221.37, 11000),\n",
    "     (533357.93, 3900154.63, -5000),\n",
    "     (0.4274014723619113, 0.35262874486945933, 0.8324547733749025)]\n",
    "    p.camera_position = cpos\n",
    "    p.show(window_size=[1028, 768])\n",
    "plot_3d_with_pyvista(susceptibility_model, notebook=True, threshold=0.026)"
   ]
  },
  {
   "cell_type": "code",
   "execution_count": null,
   "id": "a37a0b98",
   "metadata": {},
   "outputs": [],
   "source": []
  },
  {
   "cell_type": "code",
   "execution_count": null,
   "id": "2cf223bd",
   "metadata": {},
   "outputs": [],
   "source": []
  }
 ],
 "metadata": {
  "kernelspec": {
   "display_name": "Python 3 (ipykernel)",
   "language": "python",
   "name": "python3"
  },
  "language_info": {
   "codemirror_mode": {
    "name": "ipython",
    "version": 3
   },
   "file_extension": ".py",
   "mimetype": "text/x-python",
   "name": "python",
   "nbconvert_exporter": "python",
   "pygments_lexer": "ipython3",
   "version": "3.9.13"
  }
 },
 "nbformat": 4,
 "nbformat_minor": 5
}
